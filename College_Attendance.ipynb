{
  "nbformat": 4,
  "nbformat_minor": 0,
  "metadata": {
    "colab": {
      "provenance": [],
      "authorship_tag": "ABX9TyMflsG2pKBync2FSJ0oK8q/",
      "include_colab_link": true
    },
    "kernelspec": {
      "name": "python3",
      "display_name": "Python 3"
    },
    "language_info": {
      "name": "python"
    }
  },
  "cells": [
    {
      "cell_type": "markdown",
      "metadata": {
        "id": "view-in-github",
        "colab_type": "text"
      },
      "source": [
        "<a href=\"https://colab.research.google.com/github/tejartejarte/machinelearning/blob/main/College_Attendance.ipynb\" target=\"_parent\"><img src=\"https://colab.research.google.com/assets/colab-badge.svg\" alt=\"Open In Colab\"/></a>"
      ]
    },
    {
      "cell_type": "code",
      "execution_count": 49,
      "metadata": {
        "id": "dXCMpj497wHC"
      },
      "outputs": [],
      "source": [
        "import pandas as pd\n",
        "import numpy as np\n",
        "import matplotlib.pyplot as plt\n",
        "import seaborn as sns\n",
        "import warnings\n",
        "from datetime import datetime"
      ]
    },
    {
      "cell_type": "code",
      "source": [
        "cet=pd.read_excel(\"/content/Attendance project.xlsx\",skiprows=3)"
      ],
      "metadata": {
        "id": "PSGumAOk8Md1"
      },
      "execution_count": 25,
      "outputs": []
    },
    {
      "cell_type": "code",
      "source": [
        "cet.columns=[\n",
        "    \"RollNumber\",\n",
        "    \"Branch\",\n",
        "    \"Email\",\n",
        "    \"Join_Time\",\n",
        "    \"Leave_Time\",\n",
        "    \"Duration\",\n",
        "    \"Guest\",\n",
        "    \"In_Waiting_Room\"\n",
        "]"
      ],
      "metadata": {
        "id": "dMaA8qurBSe2"
      },
      "execution_count": 26,
      "outputs": []
    },
    {
      "cell_type": "markdown",
      "source": [],
      "metadata": {
        "id": "5DUM5m2NBQw2"
      }
    },
    {
      "cell_type": "code",
      "source": [
        "cet.head()"
      ],
      "metadata": {
        "colab": {
          "base_uri": "https://localhost:8080/",
          "height": 206
        },
        "id": "-aOzvyDx9IlA",
        "outputId": "b9d2b48b-7749-4886-a22b-75edae8bda31"
      },
      "execution_count": 27,
      "outputs": [
        {
          "output_type": "execute_result",
          "data": {
            "text/plain": [
              "   RollNumber Branch  Email               Join_Time              Leave_Time  \\\n",
              "0  21H51A7201    AID    NaN  11/14/2024 01:16:40 PM  11/14/2024 01:30:07 PM   \n",
              "1  21H51A7201    AID    NaN  11/14/2024 01:30:08 PM  11/14/2024 02:24:36 PM   \n",
              "2  21H51A7201    AID    NaN  11/14/2024 02:37:47 PM  11/14/2024 04:03:00 PM   \n",
              "3  21H51A7202    AID    NaN  11/14/2024 12:59:00 PM  11/14/2024 01:04:18 PM   \n",
              "4  21H51A7202    AID    NaN  11/14/2024 01:03:54 PM  11/14/2024 04:02:55 PM   \n",
              "\n",
              "   Duration Guest In_Waiting_Room  \n",
              "0        14   Yes              No  \n",
              "1        55   Yes              No  \n",
              "2        86   Yes              No  \n",
              "3         6   Yes              No  \n",
              "4       180   Yes              No  "
            ],
            "text/html": [
              "\n",
              "  <div id=\"df-7ce297e7-e0b0-4824-9db4-268666760364\" class=\"colab-df-container\">\n",
              "    <div>\n",
              "<style scoped>\n",
              "    .dataframe tbody tr th:only-of-type {\n",
              "        vertical-align: middle;\n",
              "    }\n",
              "\n",
              "    .dataframe tbody tr th {\n",
              "        vertical-align: top;\n",
              "    }\n",
              "\n",
              "    .dataframe thead th {\n",
              "        text-align: right;\n",
              "    }\n",
              "</style>\n",
              "<table border=\"1\" class=\"dataframe\">\n",
              "  <thead>\n",
              "    <tr style=\"text-align: right;\">\n",
              "      <th></th>\n",
              "      <th>RollNumber</th>\n",
              "      <th>Branch</th>\n",
              "      <th>Email</th>\n",
              "      <th>Join_Time</th>\n",
              "      <th>Leave_Time</th>\n",
              "      <th>Duration</th>\n",
              "      <th>Guest</th>\n",
              "      <th>In_Waiting_Room</th>\n",
              "    </tr>\n",
              "  </thead>\n",
              "  <tbody>\n",
              "    <tr>\n",
              "      <th>0</th>\n",
              "      <td>21H51A7201</td>\n",
              "      <td>AID</td>\n",
              "      <td>NaN</td>\n",
              "      <td>11/14/2024 01:16:40 PM</td>\n",
              "      <td>11/14/2024 01:30:07 PM</td>\n",
              "      <td>14</td>\n",
              "      <td>Yes</td>\n",
              "      <td>No</td>\n",
              "    </tr>\n",
              "    <tr>\n",
              "      <th>1</th>\n",
              "      <td>21H51A7201</td>\n",
              "      <td>AID</td>\n",
              "      <td>NaN</td>\n",
              "      <td>11/14/2024 01:30:08 PM</td>\n",
              "      <td>11/14/2024 02:24:36 PM</td>\n",
              "      <td>55</td>\n",
              "      <td>Yes</td>\n",
              "      <td>No</td>\n",
              "    </tr>\n",
              "    <tr>\n",
              "      <th>2</th>\n",
              "      <td>21H51A7201</td>\n",
              "      <td>AID</td>\n",
              "      <td>NaN</td>\n",
              "      <td>11/14/2024 02:37:47 PM</td>\n",
              "      <td>11/14/2024 04:03:00 PM</td>\n",
              "      <td>86</td>\n",
              "      <td>Yes</td>\n",
              "      <td>No</td>\n",
              "    </tr>\n",
              "    <tr>\n",
              "      <th>3</th>\n",
              "      <td>21H51A7202</td>\n",
              "      <td>AID</td>\n",
              "      <td>NaN</td>\n",
              "      <td>11/14/2024 12:59:00 PM</td>\n",
              "      <td>11/14/2024 01:04:18 PM</td>\n",
              "      <td>6</td>\n",
              "      <td>Yes</td>\n",
              "      <td>No</td>\n",
              "    </tr>\n",
              "    <tr>\n",
              "      <th>4</th>\n",
              "      <td>21H51A7202</td>\n",
              "      <td>AID</td>\n",
              "      <td>NaN</td>\n",
              "      <td>11/14/2024 01:03:54 PM</td>\n",
              "      <td>11/14/2024 04:02:55 PM</td>\n",
              "      <td>180</td>\n",
              "      <td>Yes</td>\n",
              "      <td>No</td>\n",
              "    </tr>\n",
              "  </tbody>\n",
              "</table>\n",
              "</div>\n",
              "    <div class=\"colab-df-buttons\">\n",
              "\n",
              "  <div class=\"colab-df-container\">\n",
              "    <button class=\"colab-df-convert\" onclick=\"convertToInteractive('df-7ce297e7-e0b0-4824-9db4-268666760364')\"\n",
              "            title=\"Convert this dataframe to an interactive table.\"\n",
              "            style=\"display:none;\">\n",
              "\n",
              "  <svg xmlns=\"http://www.w3.org/2000/svg\" height=\"24px\" viewBox=\"0 -960 960 960\">\n",
              "    <path d=\"M120-120v-720h720v720H120Zm60-500h600v-160H180v160Zm220 220h160v-160H400v160Zm0 220h160v-160H400v160ZM180-400h160v-160H180v160Zm440 0h160v-160H620v160ZM180-180h160v-160H180v160Zm440 0h160v-160H620v160Z\"/>\n",
              "  </svg>\n",
              "    </button>\n",
              "\n",
              "  <style>\n",
              "    .colab-df-container {\n",
              "      display:flex;\n",
              "      gap: 12px;\n",
              "    }\n",
              "\n",
              "    .colab-df-convert {\n",
              "      background-color: #E8F0FE;\n",
              "      border: none;\n",
              "      border-radius: 50%;\n",
              "      cursor: pointer;\n",
              "      display: none;\n",
              "      fill: #1967D2;\n",
              "      height: 32px;\n",
              "      padding: 0 0 0 0;\n",
              "      width: 32px;\n",
              "    }\n",
              "\n",
              "    .colab-df-convert:hover {\n",
              "      background-color: #E2EBFA;\n",
              "      box-shadow: 0px 1px 2px rgba(60, 64, 67, 0.3), 0px 1px 3px 1px rgba(60, 64, 67, 0.15);\n",
              "      fill: #174EA6;\n",
              "    }\n",
              "\n",
              "    .colab-df-buttons div {\n",
              "      margin-bottom: 4px;\n",
              "    }\n",
              "\n",
              "    [theme=dark] .colab-df-convert {\n",
              "      background-color: #3B4455;\n",
              "      fill: #D2E3FC;\n",
              "    }\n",
              "\n",
              "    [theme=dark] .colab-df-convert:hover {\n",
              "      background-color: #434B5C;\n",
              "      box-shadow: 0px 1px 3px 1px rgba(0, 0, 0, 0.15);\n",
              "      filter: drop-shadow(0px 1px 2px rgba(0, 0, 0, 0.3));\n",
              "      fill: #FFFFFF;\n",
              "    }\n",
              "  </style>\n",
              "\n",
              "    <script>\n",
              "      const buttonEl =\n",
              "        document.querySelector('#df-7ce297e7-e0b0-4824-9db4-268666760364 button.colab-df-convert');\n",
              "      buttonEl.style.display =\n",
              "        google.colab.kernel.accessAllowed ? 'block' : 'none';\n",
              "\n",
              "      async function convertToInteractive(key) {\n",
              "        const element = document.querySelector('#df-7ce297e7-e0b0-4824-9db4-268666760364');\n",
              "        const dataTable =\n",
              "          await google.colab.kernel.invokeFunction('convertToInteractive',\n",
              "                                                    [key], {});\n",
              "        if (!dataTable) return;\n",
              "\n",
              "        const docLinkHtml = 'Like what you see? Visit the ' +\n",
              "          '<a target=\"_blank\" href=https://colab.research.google.com/notebooks/data_table.ipynb>data table notebook</a>'\n",
              "          + ' to learn more about interactive tables.';\n",
              "        element.innerHTML = '';\n",
              "        dataTable['output_type'] = 'display_data';\n",
              "        await google.colab.output.renderOutput(dataTable, element);\n",
              "        const docLink = document.createElement('div');\n",
              "        docLink.innerHTML = docLinkHtml;\n",
              "        element.appendChild(docLink);\n",
              "      }\n",
              "    </script>\n",
              "  </div>\n",
              "\n",
              "\n",
              "<div id=\"df-1ece02dc-41f0-4793-8855-8d01f1b88c60\">\n",
              "  <button class=\"colab-df-quickchart\" onclick=\"quickchart('df-1ece02dc-41f0-4793-8855-8d01f1b88c60')\"\n",
              "            title=\"Suggest charts\"\n",
              "            style=\"display:none;\">\n",
              "\n",
              "<svg xmlns=\"http://www.w3.org/2000/svg\" height=\"24px\"viewBox=\"0 0 24 24\"\n",
              "     width=\"24px\">\n",
              "    <g>\n",
              "        <path d=\"M19 3H5c-1.1 0-2 .9-2 2v14c0 1.1.9 2 2 2h14c1.1 0 2-.9 2-2V5c0-1.1-.9-2-2-2zM9 17H7v-7h2v7zm4 0h-2V7h2v10zm4 0h-2v-4h2v4z\"/>\n",
              "    </g>\n",
              "</svg>\n",
              "  </button>\n",
              "\n",
              "<style>\n",
              "  .colab-df-quickchart {\n",
              "      --bg-color: #E8F0FE;\n",
              "      --fill-color: #1967D2;\n",
              "      --hover-bg-color: #E2EBFA;\n",
              "      --hover-fill-color: #174EA6;\n",
              "      --disabled-fill-color: #AAA;\n",
              "      --disabled-bg-color: #DDD;\n",
              "  }\n",
              "\n",
              "  [theme=dark] .colab-df-quickchart {\n",
              "      --bg-color: #3B4455;\n",
              "      --fill-color: #D2E3FC;\n",
              "      --hover-bg-color: #434B5C;\n",
              "      --hover-fill-color: #FFFFFF;\n",
              "      --disabled-bg-color: #3B4455;\n",
              "      --disabled-fill-color: #666;\n",
              "  }\n",
              "\n",
              "  .colab-df-quickchart {\n",
              "    background-color: var(--bg-color);\n",
              "    border: none;\n",
              "    border-radius: 50%;\n",
              "    cursor: pointer;\n",
              "    display: none;\n",
              "    fill: var(--fill-color);\n",
              "    height: 32px;\n",
              "    padding: 0;\n",
              "    width: 32px;\n",
              "  }\n",
              "\n",
              "  .colab-df-quickchart:hover {\n",
              "    background-color: var(--hover-bg-color);\n",
              "    box-shadow: 0 1px 2px rgba(60, 64, 67, 0.3), 0 1px 3px 1px rgba(60, 64, 67, 0.15);\n",
              "    fill: var(--button-hover-fill-color);\n",
              "  }\n",
              "\n",
              "  .colab-df-quickchart-complete:disabled,\n",
              "  .colab-df-quickchart-complete:disabled:hover {\n",
              "    background-color: var(--disabled-bg-color);\n",
              "    fill: var(--disabled-fill-color);\n",
              "    box-shadow: none;\n",
              "  }\n",
              "\n",
              "  .colab-df-spinner {\n",
              "    border: 2px solid var(--fill-color);\n",
              "    border-color: transparent;\n",
              "    border-bottom-color: var(--fill-color);\n",
              "    animation:\n",
              "      spin 1s steps(1) infinite;\n",
              "  }\n",
              "\n",
              "  @keyframes spin {\n",
              "    0% {\n",
              "      border-color: transparent;\n",
              "      border-bottom-color: var(--fill-color);\n",
              "      border-left-color: var(--fill-color);\n",
              "    }\n",
              "    20% {\n",
              "      border-color: transparent;\n",
              "      border-left-color: var(--fill-color);\n",
              "      border-top-color: var(--fill-color);\n",
              "    }\n",
              "    30% {\n",
              "      border-color: transparent;\n",
              "      border-left-color: var(--fill-color);\n",
              "      border-top-color: var(--fill-color);\n",
              "      border-right-color: var(--fill-color);\n",
              "    }\n",
              "    40% {\n",
              "      border-color: transparent;\n",
              "      border-right-color: var(--fill-color);\n",
              "      border-top-color: var(--fill-color);\n",
              "    }\n",
              "    60% {\n",
              "      border-color: transparent;\n",
              "      border-right-color: var(--fill-color);\n",
              "    }\n",
              "    80% {\n",
              "      border-color: transparent;\n",
              "      border-right-color: var(--fill-color);\n",
              "      border-bottom-color: var(--fill-color);\n",
              "    }\n",
              "    90% {\n",
              "      border-color: transparent;\n",
              "      border-bottom-color: var(--fill-color);\n",
              "    }\n",
              "  }\n",
              "</style>\n",
              "\n",
              "  <script>\n",
              "    async function quickchart(key) {\n",
              "      const quickchartButtonEl =\n",
              "        document.querySelector('#' + key + ' button');\n",
              "      quickchartButtonEl.disabled = true;  // To prevent multiple clicks.\n",
              "      quickchartButtonEl.classList.add('colab-df-spinner');\n",
              "      try {\n",
              "        const charts = await google.colab.kernel.invokeFunction(\n",
              "            'suggestCharts', [key], {});\n",
              "      } catch (error) {\n",
              "        console.error('Error during call to suggestCharts:', error);\n",
              "      }\n",
              "      quickchartButtonEl.classList.remove('colab-df-spinner');\n",
              "      quickchartButtonEl.classList.add('colab-df-quickchart-complete');\n",
              "    }\n",
              "    (() => {\n",
              "      let quickchartButtonEl =\n",
              "        document.querySelector('#df-1ece02dc-41f0-4793-8855-8d01f1b88c60 button');\n",
              "      quickchartButtonEl.style.display =\n",
              "        google.colab.kernel.accessAllowed ? 'block' : 'none';\n",
              "    })();\n",
              "  </script>\n",
              "</div>\n",
              "\n",
              "    </div>\n",
              "  </div>\n"
            ],
            "application/vnd.google.colaboratory.intrinsic+json": {
              "type": "dataframe",
              "variable_name": "cet",
              "summary": "{\n  \"name\": \"cet\",\n  \"rows\": 1034,\n  \"fields\": [\n    {\n      \"column\": \"RollNumber\",\n      \"properties\": {\n        \"dtype\": \"string\",\n        \"num_unique_values\": 558,\n        \"samples\": [\n          \"22H55A6214-Varun\",\n          \"21H51A6694-GUTLA PALLI GNANA DEEP B.Tech-CSM(2021-25)\",\n          \"21H51A7331\"\n        ],\n        \"semantic_type\": \"\",\n        \"description\": \"\"\n      }\n    },\n    {\n      \"column\": \"Branch\",\n      \"properties\": {\n        \"dtype\": \"category\",\n        \"num_unique_values\": 7,\n        \"samples\": [\n          \"AID\",\n          \"AIM\",\n          \"CSM\"\n        ],\n        \"semantic_type\": \"\",\n        \"description\": \"\"\n      }\n    },\n    {\n      \"column\": \"Email\",\n      \"properties\": {\n        \"dtype\": \"number\",\n        \"std\": null,\n        \"min\": null,\n        \"max\": null,\n        \"num_unique_values\": 0,\n        \"samples\": [],\n        \"semantic_type\": \"\",\n        \"description\": \"\"\n      }\n    },\n    {\n      \"column\": \"Join_Time\",\n      \"properties\": {\n        \"dtype\": \"object\",\n        \"num_unique_values\": 871,\n        \"samples\": [],\n        \"semantic_type\": \"\",\n        \"description\": \"\"\n      }\n    },\n    {\n      \"column\": \"Leave_Time\",\n      \"properties\": {\n        \"dtype\": \"object\",\n        \"num_unique_values\": 633,\n        \"samples\": [],\n        \"semantic_type\": \"\",\n        \"description\": \"\"\n      }\n    },\n    {\n      \"column\": \"Duration\",\n      \"properties\": {\n        \"dtype\": \"number\",\n        \"std\": 70,\n        \"min\": 1,\n        \"max\": 185,\n        \"num_unique_values\": 175,\n        \"samples\": [],\n        \"semantic_type\": \"\",\n        \"description\": \"\"\n      }\n    },\n    {\n      \"column\": \"Guest\",\n      \"properties\": {\n        \"dtype\": \"category\",\n        \"num_unique_values\": 1,\n        \"samples\": [],\n        \"semantic_type\": \"\",\n        \"description\": \"\"\n      }\n    },\n    {\n      \"column\": \"In_Waiting_Room\",\n      \"properties\": {\n        \"dtype\": \"category\",\n        \"num_unique_values\": 1,\n        \"samples\": [],\n        \"semantic_type\": \"\",\n        \"description\": \"\"\n      }\n    }\n  ]\n}"
            }
          },
          "metadata": {},
          "execution_count": 27
        }
      ]
    },
    {
      "cell_type": "code",
      "source": [
        "print(cet.isnull().sum())"
      ],
      "metadata": {
        "colab": {
          "base_uri": "https://localhost:8080/"
        },
        "id": "mCaRcS0n9Ovo",
        "outputId": "584c1ebb-f88a-4102-955e-a6eca50a79a7"
      },
      "execution_count": 28,
      "outputs": [
        {
          "output_type": "stream",
          "name": "stdout",
          "text": [
            "RollNumber            0\n",
            "Branch                0\n",
            "Email              1034\n",
            "Join_Time             0\n",
            "Leave_Time            0\n",
            "Duration              0\n",
            "Guest                 0\n",
            "In_Waiting_Room       0\n",
            "dtype: int64\n"
          ]
        }
      ]
    },
    {
      "cell_type": "markdown",
      "source": [],
      "metadata": {
        "id": "ABeHK6vcCg7Y"
      }
    },
    {
      "cell_type": "code",
      "source": [
        "cet[\"Join_Time\"]=pd.to_datetime(cet[\"Join_Time\"],format=\"%m/%d/%Y %I:%M:%S %p\")\n",
        "cet[\"Leave_Time\"]=pd.to_datetime(cet[\"Leave_Time\"],format=\"%m/%d/%Y %I:%M:%S %p\")"
      ],
      "metadata": {
        "id": "e8H4wYvm_fxL"
      },
      "execution_count": 29,
      "outputs": []
    },
    {
      "cell_type": "code",
      "source": [
        "print(cet.head())"
      ],
      "metadata": {
        "colab": {
          "base_uri": "https://localhost:8080/"
        },
        "id": "K8O9vyZ0DBIe",
        "outputId": "22566ffe-bd5d-4098-f769-e7791db4c7d6"
      },
      "execution_count": 30,
      "outputs": [
        {
          "output_type": "stream",
          "name": "stdout",
          "text": [
            "   RollNumber Branch  Email           Join_Time          Leave_Time  Duration  \\\n",
            "0  21H51A7201    AID    NaN 2024-11-14 13:16:40 2024-11-14 13:30:07        14   \n",
            "1  21H51A7201    AID    NaN 2024-11-14 13:30:08 2024-11-14 14:24:36        55   \n",
            "2  21H51A7201    AID    NaN 2024-11-14 14:37:47 2024-11-14 16:03:00        86   \n",
            "3  21H51A7202    AID    NaN 2024-11-14 12:59:00 2024-11-14 13:04:18         6   \n",
            "4  21H51A7202    AID    NaN 2024-11-14 13:03:54 2024-11-14 16:02:55       180   \n",
            "\n",
            "  Guest In_Waiting_Room  \n",
            "0   Yes              No  \n",
            "1   Yes              No  \n",
            "2   Yes              No  \n",
            "3   Yes              No  \n",
            "4   Yes              No  \n"
          ]
        }
      ]
    },
    {
      "cell_type": "code",
      "source": [
        "cet=cet.drop(columns=['Email',\"Guest\",\"In_Waiting_Room\"])"
      ],
      "metadata": {
        "id": "0s-6bjB8EunM"
      },
      "execution_count": 31,
      "outputs": []
    },
    {
      "cell_type": "code",
      "source": [
        "print(cet.head())"
      ],
      "metadata": {
        "colab": {
          "base_uri": "https://localhost:8080/"
        },
        "id": "ZO8Gf7DBFOJQ",
        "outputId": "e56c7c2d-2bc5-47cc-8779-a77a2f0b44af"
      },
      "execution_count": 32,
      "outputs": [
        {
          "output_type": "stream",
          "name": "stdout",
          "text": [
            "   RollNumber Branch           Join_Time          Leave_Time  Duration\n",
            "0  21H51A7201    AID 2024-11-14 13:16:40 2024-11-14 13:30:07        14\n",
            "1  21H51A7201    AID 2024-11-14 13:30:08 2024-11-14 14:24:36        55\n",
            "2  21H51A7201    AID 2024-11-14 14:37:47 2024-11-14 16:03:00        86\n",
            "3  21H51A7202    AID 2024-11-14 12:59:00 2024-11-14 13:04:18         6\n",
            "4  21H51A7202    AID 2024-11-14 13:03:54 2024-11-14 16:02:55       180\n"
          ]
        }
      ]
    },
    {
      "cell_type": "code",
      "source": [],
      "metadata": {
        "id": "Y69HYzWZHPxR"
      },
      "execution_count": 35,
      "outputs": []
    },
    {
      "cell_type": "code",
      "source": [
        "cet[\"Duration\"]=pd.to_numeric(cet[\"Duration\"],errors=\"coerce\")\n",
        "\n",
        "total_duration=cet.groupby(\"RollNumber\")[\"Duration\"].sum().reset_index()\n",
        "total_duration.columns=[\"RollNumber\",\"Total_Duration\"]\n",
        "\n",
        "cet=pd.merge(cet,total_duration,on=\"RollNumber\",how=\"left\")\n",
        "\n",
        "threshold=99\n",
        "cet[\"Attendance_Status\"]=cet[\"Total_Duration\"].apply(lambda x: \"Present\" if x>= threshold else \"Absent\")"
      ],
      "metadata": {
        "id": "FG4MJGI1ItrI"
      },
      "execution_count": 43,
      "outputs": []
    },
    {
      "cell_type": "code",
      "source": [
        "print(cet.head(10))"
      ],
      "metadata": {
        "colab": {
          "base_uri": "https://localhost:8080/"
        },
        "id": "Jqk3hLfAJwc3",
        "outputId": "63cc7329-e3fe-4bf3-bd82-ab6b7a0ca740"
      },
      "execution_count": 44,
      "outputs": [
        {
          "output_type": "stream",
          "name": "stdout",
          "text": [
            "   RollNumber Branch           Join_Time          Leave_Time  Duration  \\\n",
            "0  21H51A7201    AID 2024-11-14 13:16:40 2024-11-14 13:30:07        14   \n",
            "1  21H51A7201    AID 2024-11-14 13:30:08 2024-11-14 14:24:36        55   \n",
            "2  21H51A7201    AID 2024-11-14 14:37:47 2024-11-14 16:03:00        86   \n",
            "3  21H51A7202    AID 2024-11-14 12:59:00 2024-11-14 13:04:18         6   \n",
            "4  21H51A7202    AID 2024-11-14 13:03:54 2024-11-14 16:02:55       180   \n",
            "5  21H51A7203    AID 2024-11-14 13:00:21 2024-11-14 13:05:55         6   \n",
            "6  21H51A7203    AID 2024-11-14 13:05:45 2024-11-14 13:18:58        14   \n",
            "7  21H51A7203    AID 2024-11-14 13:19:36 2024-11-14 13:21:26         2   \n",
            "8  21H51A7203    AID 2024-11-14 13:21:33 2024-11-14 13:45:07        24   \n",
            "9  21H51A7203    AID 2024-11-14 13:45:07 2024-11-14 13:46:43         2   \n",
            "\n",
            "   Total_Durationh  Total_Duration_x Attendance_Status  Total_Duration_y  \\\n",
            "0              155               155           Present               155   \n",
            "1              155               155           Present               155   \n",
            "2              155               155           Present               155   \n",
            "3              186               186           Present               186   \n",
            "4              186               186           Present               186   \n",
            "5               98                98            Absent                98   \n",
            "6               98                98            Absent                98   \n",
            "7               98                98            Absent                98   \n",
            "8               98                98            Absent                98   \n",
            "9               98                98            Absent                98   \n",
            "\n",
            "   Total_Duration  \n",
            "0             155  \n",
            "1             155  \n",
            "2             155  \n",
            "3             186  \n",
            "4             186  \n",
            "5              98  \n",
            "6              98  \n",
            "7              98  \n",
            "8              98  \n",
            "9              98  \n"
          ]
        }
      ]
    },
    {
      "cell_type": "code",
      "source": [
        "print(cet.columns)"
      ],
      "metadata": {
        "colab": {
          "base_uri": "https://localhost:8080/"
        },
        "id": "_0t0jxQ5LAsr",
        "outputId": "232ab58c-c7ad-4664-98e5-297794c78083"
      },
      "execution_count": 40,
      "outputs": [
        {
          "output_type": "stream",
          "name": "stdout",
          "text": [
            "Index(['RollNumber', 'Branch', 'Join_Time', 'Leave_Time', 'Duration',\n",
            "       'Total_Durationh', 'Total_Duration', 'Attendance_Status'],\n",
            "      dtype='object')\n"
          ]
        }
      ]
    },
    {
      "cell_type": "markdown",
      "source": [
        "Total Attendance Summary\n"
      ],
      "metadata": {
        "id": "P_cKMw08NroG"
      }
    },
    {
      "cell_type": "code",
      "source": [
        "\n",
        "attendance_summary=cet.groupby(\"Attendance_Status\").size()\n",
        "print(attendance_summary)"
      ],
      "metadata": {
        "colab": {
          "base_uri": "https://localhost:8080/"
        },
        "id": "YPa08UHiMWmp",
        "outputId": "3c896206-141c-4ae8-ce67-62bf6cd95b7b"
      },
      "execution_count": 46,
      "outputs": [
        {
          "output_type": "stream",
          "name": "stdout",
          "text": [
            "Attendance_Status\n",
            "Absent     184\n",
            "Present    850\n",
            "dtype: int64\n"
          ]
        }
      ]
    },
    {
      "cell_type": "markdown",
      "source": [
        "Branch-Wise Attendance"
      ],
      "metadata": {
        "id": "Ci-oCTnxOTMK"
      }
    },
    {
      "cell_type": "code",
      "source": [
        "\n",
        "branch_summary=cet.groupby([\"Branch\",\"Attendance_Status\"]).size().unstack()\n",
        "print(branch_summary)"
      ],
      "metadata": {
        "colab": {
          "base_uri": "https://localhost:8080/"
        },
        "id": "F0IZbSLHNien",
        "outputId": "763fdc8b-6625-40d6-b770-53b29344f25d"
      },
      "execution_count": 47,
      "outputs": [
        {
          "output_type": "stream",
          "name": "stdout",
          "text": [
            "Attendance_Status  Absent  Present\n",
            "Branch                            \n",
            "AID                    31       45\n",
            "AIM                    22       91\n",
            "CSC                    18      112\n",
            "CSD                    10       47\n",
            "CSE                    52      306\n",
            "CSM                    32      183\n",
            "IT                     19       66\n"
          ]
        }
      ]
    },
    {
      "cell_type": "markdown",
      "source": [
        "Latecomers and Early Leavers:-"
      ],
      "metadata": {
        "id": "CMvMLQ-aSdad"
      }
    },
    {
      "cell_type": "code",
      "source": [
        "\n",
        "session_start=datetime.strptime(\"01:30:00 PM\",\"%I:%M:%S %p\")\n",
        "session_end=datetime.strptime(\"03:40:00 PM\",\"%I:%M:%S %p\")\n",
        "\n",
        "cet[\"Join_Time\"]=pd.to_datetime(cet[\"Join_Time\"])\n",
        "cet[\"Leave_Time\"]=pd.to_datetime(cet[\"Leave_Time\"])\n",
        "\n",
        "cet[\"Late_Join\"]=cet[\"Join_Time\"].apply(lambda x: x.time()> session_start.time())\n",
        "cet[\"Early_Leave\"]=cet[\"Leave_Time\"].apply(lambda x: x.time()< session_end.time())\n",
        "\n",
        "print(cet[[\"RollNumber\",\"Join_Time\",\"Leave_Time\",\"Late_Join\",\"Early_Leave\"]])"
      ],
      "metadata": {
        "colab": {
          "base_uri": "https://localhost:8080/"
        },
        "id": "V8wuq9gZPcbI",
        "outputId": "1ee583ab-9ecd-4db2-f841-28226026a012"
      },
      "execution_count": 53,
      "outputs": [
        {
          "output_type": "stream",
          "name": "stdout",
          "text": [
            "                                             RollNumber           Join_Time  \\\n",
            "0                                            21H51A7201 2024-11-14 13:16:40   \n",
            "1                                            21H51A7201 2024-11-14 13:30:08   \n",
            "2                                            21H51A7201 2024-11-14 14:37:47   \n",
            "3                                            21H51A7202 2024-11-14 12:59:00   \n",
            "4                                            21H51A7202 2024-11-14 13:03:54   \n",
            "...                                                 ...                 ...   \n",
            "1029                                         22H55A1205 2024-11-14 13:28:00   \n",
            "1030  22H55A1205 (22H55A1205-M PRASAD NAIDU B.Tech-I... 2024-11-14 13:03:12   \n",
            "1031                                         22H55A1206 2024-11-14 13:03:12   \n",
            "1032                                         22H55A1206 2024-11-14 14:38:51   \n",
            "1033                                         22H55A1206 2024-11-14 15:09:19   \n",
            "\n",
            "              Leave_Time  Late_Join  Early_Leave  \n",
            "0    2024-11-14 13:30:07      False         True  \n",
            "1    2024-11-14 14:24:36       True         True  \n",
            "2    2024-11-14 16:03:00       True        False  \n",
            "3    2024-11-14 13:04:18      False         True  \n",
            "4    2024-11-14 16:02:55      False        False  \n",
            "...                  ...        ...          ...  \n",
            "1029 2024-11-14 14:45:42      False         True  \n",
            "1030 2024-11-14 13:22:54      False         True  \n",
            "1031 2024-11-14 14:38:50      False         True  \n",
            "1032 2024-11-14 15:08:26       True         True  \n",
            "1033 2024-11-14 16:03:00       True        False  \n",
            "\n",
            "[1034 rows x 5 columns]\n"
          ]
        }
      ]
    },
    {
      "cell_type": "code",
      "source": [
        "\n",
        "branch_summary.plot(kind=\"bar\",stacked=True)\n",
        "plt.title(\"Branch-Wise Attendance\")\n",
        "plt.show()"
      ],
      "metadata": {
        "colab": {
          "base_uri": "https://localhost:8080/",
          "height": 488
        },
        "id": "RXk0z43YSgSh",
        "outputId": "8bf76064-27e6-4fcf-e4d1-73f1fccff7e2"
      },
      "execution_count": 54,
      "outputs": [
        {
          "output_type": "display_data",
          "data": {
            "text/plain": [
              "<Figure size 640x480 with 1 Axes>"
            ],
            "image/png": "[encoded data removed]"
          },
          "metadata": {}
        }
      ]
    },
    {
      "cell_type": "code",
      "source": [],
      "metadata": {
        "id": "_qX9H-pkSvJt"
      },
      "execution_count": null,
      "outputs": []
    }
  ]
}